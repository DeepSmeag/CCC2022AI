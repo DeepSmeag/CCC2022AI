{
 "cells": [
  {
   "cell_type": "code",
   "execution_count": 1,
   "metadata": {},
   "outputs": [],
   "source": [
    "import pandas as pd\n",
    "import numpy as np\n",
    "import matplotlib.pyplot as plt"
   ]
  },
  {
   "cell_type": "code",
   "execution_count": 2,
   "metadata": {},
   "outputs": [
    {
     "data": {
      "text/plain": [
       "(array([1182., 1053., 1002., 2220.]),\n",
       " array([0., 1., 2., 3., 4.]),\n",
       " <BarContainer object of 4 artists>)"
      ]
     },
     "execution_count": 2,
     "metadata": {},
     "output_type": "execute_result"
    },
    {
     "data": {
      "image/png": "[encoded data removed]",
      "text/plain": [
       "<Figure size 640x480 with 1 Axes>"
      ]
     },
     "metadata": {},
     "output_type": "display_data"
    }
   ],
   "source": [
    "beesDB = pd.read_csv('./level_1/training_data.csv', header = None)\n",
    "npBest = beesDB.values\n",
    "# pandas to np array\n",
    "\n",
    "plt.hist(npBest[:,1], bins=[0,1,2,3,4])"
   ]
  },
  {
   "cell_type": "code",
   "execution_count": 5,
   "metadata": {},
   "outputs": [
    {
     "data": {
      "text/plain": [
       "(5275, 2)"
      ]
     },
     "execution_count": 5,
     "metadata": {},
     "output_type": "execute_result"
    }
   ],
   "source": [
    "# Filter pandas where first column doesn't have 30 characters\n",
    "beesFiltered = beesDB[beesDB.iloc[:,0].str.len() == 30]\n",
    "beesFiltered.head()\n",
    "beesFiltered.shape\n",
    "# plt.hist(beesFiltered.iloc[:,1], bins=[0,1,2,3,4,5])\n",
    "# beesDB.shape"
   ]
  },
  {
   "cell_type": "code",
   "execution_count": 9,
   "metadata": {},
   "outputs": [],
   "source": [
    "# Neural network to classify bees with sklearn\n",
    "from sklearn.neural_network import MLPClassifier\n",
    "from sklearn.model_selection import train_test_split\n",
    "from sklearn.metrics import accuracy_score\n",
    "\n"
   ]
  },
  {
   "cell_type": "code",
   "execution_count": 10,
   "metadata": {},
   "outputs": [],
   "source": [
    "def convertStringToNpIntArray(string):\n",
    "    return np.array([ord(x) - ord('a') for x in string])"
   ]
  },
  {
   "cell_type": "code",
   "execution_count": 79,
   "metadata": {},
   "outputs": [],
   "source": [
    "beesEncoded = beesFiltered.iloc[:,0].apply(convertStringToNpIntArray)\n",
    "# beesEncoded = beesFiltered.iloc[:,0]\n",
    "# beesEncoded.insert(0, '1', beesFiltered.iloc[:,1])\n",
    "beesEncoded = beesEncoded.to_frame()\n",
    "beesEncoded.insert(1, '1', beesFiltered.iloc[:,1])\n",
    "\n",
    "X_train = np.stack(beesEncoded.iloc[:,0].values)\n",
    "y_train = np.stack(beesEncoded.iloc[:,1].values)"
   ]
  },
  {
   "cell_type": "code",
   "execution_count": 50,
   "metadata": {},
   "outputs": [
    {
     "data": {
      "text/html": [
       "<style>#sk-container-id-5 {color: black;background-color: white;}#sk-container-id-5 pre{padding: 0;}#sk-container-id-5 div.sk-toggleable {background-color: white;}#sk-container-id-5 label.sk-toggleable__label {cursor: pointer;display: block;width: 100%;margin-bottom: 0;padding: 0.3em;box-sizing: border-box;text-align: center;}#sk-container-id-5 label.sk-toggleable__label-arrow:before {content: \"▸\";float: left;margin-right: 0.25em;color: #696969;}#sk-container-id-5 label.sk-toggleable__label-arrow:hover:before {color: black;}#sk-container-id-5 div.sk-estimator:hover label.sk-toggleable__label-arrow:before {color: black;}#sk-container-id-5 div.sk-toggleable__content {max-height: 0;max-width: 0;overflow: hidden;text-align: left;background-color: #f0f8ff;}#sk-container-id-5 div.sk-toggleable__content pre {margin: 0.2em;color: black;border-radius: 0.25em;background-color: #f0f8ff;}#sk-container-id-5 input.sk-toggleable__control:checked~div.sk-toggleable__content {max-height: 200px;max-width: 100%;overflow: auto;}#sk-container-id-5 input.sk-toggleable__control:checked~label.sk-toggleable__label-arrow:before {content: \"▾\";}#sk-container-id-5 div.sk-estimator input.sk-toggleable__control:checked~label.sk-toggleable__label {background-color: #d4ebff;}#sk-container-id-5 div.sk-label input.sk-toggleable__control:checked~label.sk-toggleable__label {background-color: #d4ebff;}#sk-container-id-5 input.sk-hidden--visually {border: 0;clip: rect(1px 1px 1px 1px);clip: rect(1px, 1px, 1px, 1px);height: 1px;margin: -1px;overflow: hidden;padding: 0;position: absolute;width: 1px;}#sk-container-id-5 div.sk-estimator {font-family: monospace;background-color: #f0f8ff;border: 1px dotted black;border-radius: 0.25em;box-sizing: border-box;margin-bottom: 0.5em;}#sk-container-id-5 div.sk-estimator:hover {background-color: #d4ebff;}#sk-container-id-5 div.sk-parallel-item::after {content: \"\";width: 100%;border-bottom: 1px solid gray;flex-grow: 1;}#sk-container-id-5 div.sk-label:hover label.sk-toggleable__label {background-color: #d4ebff;}#sk-container-id-5 div.sk-serial::before {content: \"\";position: absolute;border-left: 1px solid gray;box-sizing: border-box;top: 0;bottom: 0;left: 50%;z-index: 0;}#sk-container-id-5 div.sk-serial {display: flex;flex-direction: column;align-items: center;background-color: white;padding-right: 0.2em;padding-left: 0.2em;position: relative;}#sk-container-id-5 div.sk-item {position: relative;z-index: 1;}#sk-container-id-5 div.sk-parallel {display: flex;align-items: stretch;justify-content: center;background-color: white;position: relative;}#sk-container-id-5 div.sk-item::before, #sk-container-id-5 div.sk-parallel-item::before {content: \"\";position: absolute;border-left: 1px solid gray;box-sizing: border-box;top: 0;bottom: 0;left: 50%;z-index: -1;}#sk-container-id-5 div.sk-parallel-item {display: flex;flex-direction: column;z-index: 1;position: relative;background-color: white;}#sk-container-id-5 div.sk-parallel-item:first-child::after {align-self: flex-end;width: 50%;}#sk-container-id-5 div.sk-parallel-item:last-child::after {align-self: flex-start;width: 50%;}#sk-container-id-5 div.sk-parallel-item:only-child::after {width: 0;}#sk-container-id-5 div.sk-dashed-wrapped {border: 1px dashed gray;margin: 0 0.4em 0.5em 0.4em;box-sizing: border-box;padding-bottom: 0.4em;background-color: white;}#sk-container-id-5 div.sk-label label {font-family: monospace;font-weight: bold;display: inline-block;line-height: 1.2em;}#sk-container-id-5 div.sk-label-container {text-align: center;}#sk-container-id-5 div.sk-container {/* jupyter's `normalize.less` sets `[hidden] { display: none; }` but bootstrap.min.css set `[hidden] { display: none !important; }` so we also need the `!important` here to be able to override the default hidden behavior on the sphinx rendered scikit-learn.org. See: https://github.com/scikit-learn/scikit-learn/issues/21755 */display: inline-block !important;position: relative;}#sk-container-id-5 div.sk-text-repr-fallback {display: none;}</style><div id=\"sk-container-id-5\" class=\"sk-top-container\"><div class=\"sk-text-repr-fallback\"><pre>MLPClassifier(alpha=0.0005, hidden_layer_sizes=(50, 50, 50, 50, 50, 50),\n",
       "              max_iter=50000)</pre><b>In a Jupyter environment, please rerun this cell to show the HTML representation or trust the notebook. <br />On GitHub, the HTML representation is unable to render, please try loading this page with nbviewer.org.</b></div><div class=\"sk-container\" hidden><div class=\"sk-item\"><div class=\"sk-estimator sk-toggleable\"><input class=\"sk-toggleable__control sk-hidden--visually\" id=\"sk-estimator-id-5\" type=\"checkbox\" checked><label for=\"sk-estimator-id-5\" class=\"sk-toggleable__label sk-toggleable__label-arrow\">MLPClassifier</label><div class=\"sk-toggleable__content\"><pre>MLPClassifier(alpha=0.0005, hidden_layer_sizes=(50, 50, 50, 50, 50, 50),\n",
       "              max_iter=50000)</pre></div></div></div></div></div>"
      ],
      "text/plain": [
       "MLPClassifier(alpha=0.0005, hidden_layer_sizes=(50, 50, 50, 50, 50, 50),\n",
       "              max_iter=50000)"
      ]
     },
     "execution_count": 50,
     "metadata": {},
     "output_type": "execute_result"
    }
   ],
   "source": [
    "# Training the neural network with 5 output neurons using scikit-learn\n",
    "mlp = MLPClassifier(alpha = 5e-4,hidden_layer_sizes=(50,50,50,50,50,50), max_iter=50000)\n",
    "mlp.fit(X_train,y_train)\n"
   ]
  },
  {
   "cell_type": "code",
   "execution_count": 39,
   "metadata": {},
   "outputs": [],
   "source": [
    "def loadTest(path: str):\n",
    "    testData = pd.read_csv(path, header = None)\n",
    "    testData = testData.iloc[:,0].apply(convertStringToNpIntArray)\n",
    "    testData = np.stack(testData.values)\n",
    "    return testData\n",
    "def writeResult(path: str, result):\n",
    "    with open(path, 'w') as f:\n",
    "        for item in result:\n",
    "            f.write(str(item) + '\\n')"
   ]
  },
  {
   "cell_type": "code",
   "execution_count": 92,
   "metadata": {},
   "outputs": [],
   "source": [
    "testData = loadTest('./level_6/imbalanced_test_data.csv')\n"
   ]
  },
  {
   "cell_type": "code",
   "execution_count": 2,
   "metadata": {},
   "outputs": [
    {
     "name": "stderr",
     "output_type": "stream",
     "text": [
      "2022-11-11 19:59:19.412792: I tensorflow/core/platform/cpu_feature_guard.cc:193] This TensorFlow binary is optimized with oneAPI Deep Neural Network Library (oneDNN) to use the following CPU instructions in performance-critical operations:  AVX2 FMA\n",
      "To enable them in other operations, rebuild TensorFlow with the appropriate compiler flags.\n",
      "2022-11-11 19:59:23.517085: W tensorflow/stream_executor/platform/default/dso_loader.cc:64] Could not load dynamic library 'libcudart.so.11.0'; dlerror: libcudart.so.11.0: cannot open shared object file: No such file or directory\n",
      "2022-11-11 19:59:23.517147: I tensorflow/stream_executor/cuda/cudart_stub.cc:29] Ignore above cudart dlerror if you do not have a GPU set up on your machine.\n",
      "2022-11-11 19:59:23.868038: E tensorflow/stream_executor/cuda/cuda_blas.cc:2981] Unable to register cuBLAS factory: Attempting to register factory for plugin cuBLAS when one has already been registered\n",
      "2022-11-11 19:59:34.488563: W tensorflow/stream_executor/platform/default/dso_loader.cc:64] Could not load dynamic library 'libnvinfer.so.7'; dlerror: libnvinfer.so.7: cannot open shared object file: No such file or directory\n",
      "2022-11-11 19:59:34.489120: W tensorflow/stream_executor/platform/default/dso_loader.cc:64] Could not load dynamic library 'libnvinfer_plugin.so.7'; dlerror: libnvinfer_plugin.so.7: cannot open shared object file: No such file or directory\n",
      "2022-11-11 19:59:34.489139: W tensorflow/compiler/tf2tensorrt/utils/py_utils.cc:38] TF-TRT Warning: Cannot dlopen some TensorRT libraries. If you would like to use Nvidia GPU with TensorRT, please make sure the missing libraries mentioned above are installed properly.\n"
     ]
    }
   ],
   "source": [
    "import keras\n",
    "import tensorflow as tf"
   ]
  },
  {
   "cell_type": "code",
   "execution_count": 85,
   "metadata": {},
   "outputs": [
    {
     "name": "stdout",
     "output_type": "stream",
     "text": [
      "Epoch 1/100\n",
      "165/165 [==============================] - 1s 2ms/step - loss: 1.6209 - accuracy: 0.2123\n",
      "Epoch 2/100\n",
      "165/165 [==============================] - 0s 2ms/step - loss: 1.6044 - accuracy: 0.2298\n",
      "Epoch 3/100\n",
      "165/165 [==============================] - 0s 2ms/step - loss: 1.6033 - accuracy: 0.2375\n",
      "Epoch 4/100\n",
      "165/165 [==============================] - 0s 2ms/step - loss: 1.5954 - accuracy: 0.2529\n",
      "Epoch 5/100\n",
      "165/165 [==============================] - 0s 2ms/step - loss: 1.5843 - accuracy: 0.2713\n",
      "Epoch 6/100\n",
      "165/165 [==============================] - 0s 2ms/step - loss: 1.5716 - accuracy: 0.2842\n",
      "Epoch 7/100\n",
      "165/165 [==============================] - 0s 2ms/step - loss: 1.5573 - accuracy: 0.2891\n",
      "Epoch 8/100\n",
      "165/165 [==============================] - 0s 2ms/step - loss: 1.5385 - accuracy: 0.3014\n",
      "Epoch 9/100\n",
      "165/165 [==============================] - 0s 2ms/step - loss: 1.5284 - accuracy: 0.3065\n",
      "Epoch 10/100\n",
      "165/165 [==============================] - 0s 2ms/step - loss: 1.5027 - accuracy: 0.3299\n",
      "Epoch 11/100\n",
      "165/165 [==============================] - 0s 2ms/step - loss: 1.4882 - accuracy: 0.3433\n",
      "Epoch 12/100\n",
      "165/165 [==============================] - 0s 2ms/step - loss: 1.4665 - accuracy: 0.3490\n",
      "Epoch 13/100\n",
      "165/165 [==============================] - 0s 2ms/step - loss: 1.4504 - accuracy: 0.3649\n",
      "Epoch 14/100\n",
      "165/165 [==============================] - 0s 2ms/step - loss: 1.4323 - accuracy: 0.3674\n",
      "Epoch 15/100\n",
      "165/165 [==============================] - 0s 2ms/step - loss: 1.4180 - accuracy: 0.3784\n",
      "Epoch 16/100\n",
      "165/165 [==============================] - 0s 2ms/step - loss: 1.4043 - accuracy: 0.3888\n",
      "Epoch 17/100\n",
      "165/165 [==============================] - 0s 2ms/step - loss: 1.3856 - accuracy: 0.3943\n",
      "Epoch 18/100\n",
      "165/165 [==============================] - 0s 2ms/step - loss: 1.3740 - accuracy: 0.4112\n",
      "Epoch 19/100\n",
      "165/165 [==============================] - 0s 2ms/step - loss: 1.3592 - accuracy: 0.4070\n",
      "Epoch 20/100\n",
      "165/165 [==============================] - 0s 2ms/step - loss: 1.3359 - accuracy: 0.4218\n",
      "Epoch 21/100\n",
      "165/165 [==============================] - 0s 2ms/step - loss: 1.3385 - accuracy: 0.4138\n",
      "Epoch 22/100\n",
      "165/165 [==============================] - 0s 2ms/step - loss: 1.3198 - accuracy: 0.4305\n",
      "Epoch 23/100\n",
      "165/165 [==============================] - 0s 2ms/step - loss: 1.3027 - accuracy: 0.4417\n",
      "Epoch 24/100\n",
      "165/165 [==============================] - 0s 2ms/step - loss: 1.2912 - accuracy: 0.4447\n",
      "Epoch 25/100\n",
      "165/165 [==============================] - 0s 2ms/step - loss: 1.2805 - accuracy: 0.4531\n",
      "Epoch 26/100\n",
      "165/165 [==============================] - 0s 2ms/step - loss: 1.2617 - accuracy: 0.4603\n",
      "Epoch 27/100\n",
      "165/165 [==============================] - 0s 2ms/step - loss: 1.2506 - accuracy: 0.4688\n",
      "Epoch 28/100\n",
      "165/165 [==============================] - 0s 2ms/step - loss: 1.2319 - accuracy: 0.4673\n",
      "Epoch 29/100\n",
      "165/165 [==============================] - 0s 2ms/step - loss: 1.2218 - accuracy: 0.4747\n",
      "Epoch 30/100\n",
      "165/165 [==============================] - 0s 2ms/step - loss: 1.2047 - accuracy: 0.4827\n",
      "Epoch 31/100\n",
      "165/165 [==============================] - 0s 2ms/step - loss: 1.2034 - accuracy: 0.4819\n",
      "Epoch 32/100\n",
      "165/165 [==============================] - 0s 2ms/step - loss: 1.1898 - accuracy: 0.4944\n",
      "Epoch 33/100\n",
      "165/165 [==============================] - 0s 2ms/step - loss: 1.1769 - accuracy: 0.4942\n",
      "Epoch 34/100\n",
      "165/165 [==============================] - 0s 2ms/step - loss: 1.1670 - accuracy: 0.5043\n",
      "Epoch 35/100\n",
      "165/165 [==============================] - 0s 2ms/step - loss: 1.1574 - accuracy: 0.5027\n",
      "Epoch 36/100\n",
      "165/165 [==============================] - 0s 2ms/step - loss: 1.1380 - accuracy: 0.5122\n",
      "Epoch 37/100\n",
      "165/165 [==============================] - 0s 2ms/step - loss: 1.1340 - accuracy: 0.5109\n",
      "Epoch 38/100\n",
      "165/165 [==============================] - 0s 2ms/step - loss: 1.1230 - accuracy: 0.5170\n",
      "Epoch 39/100\n",
      "165/165 [==============================] - 0s 2ms/step - loss: 1.1169 - accuracy: 0.5257\n",
      "Epoch 40/100\n",
      "165/165 [==============================] - 0s 2ms/step - loss: 1.0987 - accuracy: 0.5312\n",
      "Epoch 41/100\n",
      "165/165 [==============================] - 0s 2ms/step - loss: 1.1069 - accuracy: 0.5255\n",
      "Epoch 42/100\n",
      "165/165 [==============================] - 0s 2ms/step - loss: 1.0893 - accuracy: 0.5390\n",
      "Epoch 43/100\n",
      "165/165 [==============================] - 0s 2ms/step - loss: 1.0842 - accuracy: 0.5342\n",
      "Epoch 44/100\n",
      "165/165 [==============================] - 0s 2ms/step - loss: 1.0645 - accuracy: 0.5467\n",
      "Epoch 45/100\n",
      "165/165 [==============================] - 0s 2ms/step - loss: 1.0523 - accuracy: 0.5515\n",
      "Epoch 46/100\n",
      "165/165 [==============================] - 0s 2ms/step - loss: 1.0547 - accuracy: 0.5503\n",
      "Epoch 47/100\n",
      "165/165 [==============================] - 0s 2ms/step - loss: 1.0502 - accuracy: 0.5579\n",
      "Epoch 48/100\n",
      "165/165 [==============================] - 0s 2ms/step - loss: 1.0397 - accuracy: 0.5619\n",
      "Epoch 49/100\n",
      "165/165 [==============================] - 0s 2ms/step - loss: 1.0181 - accuracy: 0.5754\n",
      "Epoch 50/100\n",
      "165/165 [==============================] - 0s 2ms/step - loss: 1.0251 - accuracy: 0.5697\n",
      "Epoch 51/100\n",
      "165/165 [==============================] - 0s 2ms/step - loss: 1.0215 - accuracy: 0.5640\n",
      "Epoch 52/100\n",
      "165/165 [==============================] - 0s 2ms/step - loss: 1.0193 - accuracy: 0.5708\n",
      "Epoch 53/100\n",
      "165/165 [==============================] - 0s 2ms/step - loss: 1.0109 - accuracy: 0.5801\n",
      "Epoch 54/100\n",
      "165/165 [==============================] - 0s 2ms/step - loss: 1.0084 - accuracy: 0.5759\n",
      "Epoch 55/100\n",
      "165/165 [==============================] - 0s 2ms/step - loss: 1.0097 - accuracy: 0.5757\n",
      "Epoch 56/100\n",
      "165/165 [==============================] - 0s 2ms/step - loss: 0.9849 - accuracy: 0.5843\n",
      "Epoch 57/100\n",
      "165/165 [==============================] - 0s 2ms/step - loss: 0.9842 - accuracy: 0.5854\n",
      "Epoch 58/100\n",
      "165/165 [==============================] - 0s 2ms/step - loss: 0.9684 - accuracy: 0.5917\n",
      "Epoch 59/100\n",
      "165/165 [==============================] - 0s 2ms/step - loss: 0.9483 - accuracy: 0.6009\n",
      "Epoch 60/100\n",
      "165/165 [==============================] - 0s 2ms/step - loss: 0.9663 - accuracy: 0.5932\n",
      "Epoch 61/100\n",
      "165/165 [==============================] - 0s 2ms/step - loss: 0.9758 - accuracy: 0.5882\n",
      "Epoch 62/100\n",
      "165/165 [==============================] - 0s 2ms/step - loss: 0.9500 - accuracy: 0.5958\n",
      "Epoch 63/100\n",
      "165/165 [==============================] - 0s 2ms/step - loss: 0.9504 - accuracy: 0.6009\n",
      "Epoch 64/100\n",
      "165/165 [==============================] - 0s 2ms/step - loss: 0.9505 - accuracy: 0.6055\n",
      "Epoch 65/100\n",
      "165/165 [==============================] - 0s 2ms/step - loss: 0.9353 - accuracy: 0.6099\n",
      "Epoch 66/100\n",
      "165/165 [==============================] - 0s 2ms/step - loss: 0.9415 - accuracy: 0.6142\n",
      "Epoch 67/100\n",
      "165/165 [==============================] - 0s 2ms/step - loss: 0.9106 - accuracy: 0.6277\n",
      "Epoch 68/100\n",
      "165/165 [==============================] - 0s 2ms/step - loss: 0.9446 - accuracy: 0.6030\n",
      "Epoch 69/100\n",
      "165/165 [==============================] - 0s 2ms/step - loss: 0.9200 - accuracy: 0.6142\n",
      "Epoch 70/100\n",
      "165/165 [==============================] - 0s 2ms/step - loss: 0.9122 - accuracy: 0.6171\n",
      "Epoch 71/100\n",
      "165/165 [==============================] - 0s 2ms/step - loss: 0.9177 - accuracy: 0.6241\n",
      "Epoch 72/100\n",
      "165/165 [==============================] - 0s 2ms/step - loss: 0.9017 - accuracy: 0.6241\n",
      "Epoch 73/100\n",
      "165/165 [==============================] - 0s 2ms/step - loss: 0.8925 - accuracy: 0.6292\n",
      "Epoch 74/100\n",
      "165/165 [==============================] - 0s 2ms/step - loss: 0.9018 - accuracy: 0.6281\n",
      "Epoch 75/100\n",
      "165/165 [==============================] - 0s 2ms/step - loss: 0.8959 - accuracy: 0.6260\n",
      "Epoch 76/100\n",
      "165/165 [==============================] - 0s 2ms/step - loss: 0.8886 - accuracy: 0.6362\n",
      "Epoch 77/100\n",
      "165/165 [==============================] - 0s 2ms/step - loss: 0.8913 - accuracy: 0.6343\n",
      "Epoch 78/100\n",
      "165/165 [==============================] - 0s 2ms/step - loss: 0.8835 - accuracy: 0.6364\n",
      "Epoch 79/100\n",
      "165/165 [==============================] - 0s 2ms/step - loss: 0.8693 - accuracy: 0.6419\n",
      "Epoch 80/100\n",
      "165/165 [==============================] - 0s 2ms/step - loss: 0.8759 - accuracy: 0.6370\n",
      "Epoch 81/100\n",
      "165/165 [==============================] - 0s 2ms/step - loss: 0.8846 - accuracy: 0.6353\n",
      "Epoch 82/100\n",
      "165/165 [==============================] - 0s 2ms/step - loss: 0.8656 - accuracy: 0.6427\n",
      "Epoch 83/100\n",
      "165/165 [==============================] - 0s 2ms/step - loss: 0.8753 - accuracy: 0.6408\n",
      "Epoch 84/100\n",
      "165/165 [==============================] - 0s 2ms/step - loss: 0.8474 - accuracy: 0.6457\n",
      "Epoch 85/100\n",
      "165/165 [==============================] - 0s 2ms/step - loss: 0.8330 - accuracy: 0.6499\n",
      "Epoch 86/100\n",
      "165/165 [==============================] - 0s 2ms/step - loss: 0.8451 - accuracy: 0.6523\n",
      "Epoch 87/100\n",
      "165/165 [==============================] - 0s 2ms/step - loss: 0.8464 - accuracy: 0.6480\n",
      "Epoch 88/100\n",
      "165/165 [==============================] - 0s 2ms/step - loss: 0.8511 - accuracy: 0.6478\n",
      "Epoch 89/100\n",
      "165/165 [==============================] - 0s 2ms/step - loss: 0.8371 - accuracy: 0.6500\n",
      "Epoch 90/100\n",
      "165/165 [==============================] - 0s 2ms/step - loss: 0.8323 - accuracy: 0.6622\n",
      "Epoch 91/100\n",
      "165/165 [==============================] - 0s 2ms/step - loss: 0.8356 - accuracy: 0.6571\n",
      "Epoch 92/100\n",
      "165/165 [==============================] - 0s 2ms/step - loss: 0.8164 - accuracy: 0.6658\n",
      "Epoch 93/100\n",
      "165/165 [==============================] - 0s 2ms/step - loss: 0.8344 - accuracy: 0.6573\n",
      "Epoch 94/100\n",
      "165/165 [==============================] - 0s 2ms/step - loss: 0.8113 - accuracy: 0.6796\n",
      "Epoch 95/100\n",
      "165/165 [==============================] - 0s 2ms/step - loss: 0.8331 - accuracy: 0.6540\n",
      "Epoch 96/100\n",
      "165/165 [==============================] - 0s 2ms/step - loss: 0.8175 - accuracy: 0.6686\n",
      "Epoch 97/100\n",
      "165/165 [==============================] - 0s 2ms/step - loss: 0.8293 - accuracy: 0.6590\n",
      "Epoch 98/100\n",
      "165/165 [==============================] - 0s 2ms/step - loss: 0.8003 - accuracy: 0.6773\n",
      "Epoch 99/100\n",
      "165/165 [==============================] - 0s 2ms/step - loss: 0.8185 - accuracy: 0.6652\n",
      "Epoch 100/100\n",
      "165/165 [==============================] - 0s 2ms/step - loss: 0.8326 - accuracy: 0.6614\n"
     ]
    },
    {
     "data": {
      "text/plain": [
       "<keras.callbacks.History at 0x7f38722ba700>"
      ]
     },
     "execution_count": 85,
     "metadata": {},
     "output_type": "execute_result"
    }
   ],
   "source": [
    "# Training the neural network with 5 output neurons using keras\n",
    "model = keras.Sequential([\n",
    "    keras.layers.Dense(50, activation=tf.nn.relu),\n",
    "    keras.layers.Dense(50, activation=tf.nn.relu),\n",
    "    keras.layers.Dense(50, activation=tf.nn.relu),\n",
    "    keras.layers.Dropout(0.2),\n",
    "    keras.layers.Dense(50, activation=tf.nn.relu),\n",
    "    keras.layers.Dense(50, activation=tf.nn.relu),\n",
    "    keras.layers.Dropout(0.2),\n",
    "    keras.layers.Dense(50, activation=tf.nn.relu),\n",
    "    keras.layers.Dense(5, activation=tf.nn.softmax)\n",
    "])\n",
    "model.compile(optimizer='adam',\n",
    "                loss='sparse_categorical_crossentropy',\n",
    "                metrics=['accuracy'])\n",
    "model.fit(X_train, y_train, epochs=100)    \n"
   ]
  },
  {
   "cell_type": "code",
   "execution_count": 86,
   "metadata": {},
   "outputs": [
    {
     "name": "stdout",
     "output_type": "stream",
     "text": [
      "31/31 [==============================] - 0s 1ms/step\n"
     ]
    }
   ],
   "source": [
    "# model.evaluate(X_train, y_train)\n",
    "beesAns4 = model.predict(testData)\n",
    "beesAns4 = np.argmax(beesAns4, axis=1)\n",
    "beesAns4\n",
    "writeResult('beesAns4', beesAns4)"
   ]
  },
  {
   "cell_type": "markdown",
   "metadata": {},
   "source": [
    "- 1: lstm 30, 2 de 50 dense, dropout 0.2, 2 dense 50, dense 5 output cu softmax - 96% fscore\n",
    "- 2: lstm 50, 2 de 50 dense, dropout 0.3, la fel - 94% fscore\n",
    "- 3: lstm 50, 2 de 50 dense, dropout 0.2, la fel - 93% fscore\n",
    "- 4: lstm 30, 2 de 50 dense, dropout 0.2, 1 dens 50, output - 86% -> nu trebuie complexitate scazuta\n",
    "- 5: lstm 30, 2 de 50 dense, dropout 0.2, 3 dense 50, output - probabil mai jos, deci nu extra dense layer\n",
    "- 6: lstm 30, 2 de 50 dense, dropout 0.15, 2 dense 50, output - probabil, mai jos, nu dropout mai mare\n",
    "- 7: lstm 30, 2 dense de 50, dropout 0.2, 2 dense de 50, dense 5 output cu softmax - (=1 config) \n",
    "- 8: 2 lstm 30, 2 dense de 50, dropout 0.2, 2 dense de 50, dense 5 output cu softmax - 97% - deci ne trebuie complexitate si mai mare\n",
    "- 9: 3 lstm 30, 2 dense de 50, dropout 0.2, 1 dense de 50, dense 5 output cu softmax - cu speranta"
   ]
  },
  {
   "cell_type": "code",
   "execution_count": 3,
   "metadata": {},
   "outputs": [
    {
     "name": "stderr",
     "output_type": "stream",
     "text": [
      "2022-11-11 19:59:57.573330: E tensorflow/stream_executor/cuda/cuda_driver.cc:265] failed call to cuInit: UNKNOWN ERROR (100)\n",
      "2022-11-11 19:59:57.573403: I tensorflow/stream_executor/cuda/cuda_diagnostics.cc:156] kernel driver does not appear to be running on this host (Laptop): /proc/driver/nvidia/version does not exist\n",
      "2022-11-11 19:59:57.578244: I tensorflow/core/platform/cpu_feature_guard.cc:193] This TensorFlow binary is optimized with oneAPI Deep Neural Network Library (oneDNN) to use the following CPU instructions in performance-critical operations:  AVX2 FMA\n",
      "To enable them in other operations, rebuild TensorFlow with the appropriate compiler flags.\n"
     ]
    },
    {
     "ename": "NameError",
     "evalue": "name 'X_train' is not defined",
     "output_type": "error",
     "traceback": [
      "\u001b[0;31m---------------------------------------------------------------------------\u001b[0m",
      "\u001b[0;31mNameError\u001b[0m                                 Traceback (most recent call last)",
      "Cell \u001b[0;32mIn [3], line 16\u001b[0m\n\u001b[1;32m      2\u001b[0m model \u001b[39m=\u001b[39m keras\u001b[39m.\u001b[39mSequential([\n\u001b[1;32m      3\u001b[0m     keras\u001b[39m.\u001b[39mlayers\u001b[39m.\u001b[39mLSTM(\u001b[39m30\u001b[39m, input_shape\u001b[39m=\u001b[39m(\u001b[39m30\u001b[39m,\u001b[39m1\u001b[39m), return_sequences\u001b[39m=\u001b[39m\u001b[39mTrue\u001b[39;00m),\n\u001b[1;32m      4\u001b[0m     keras\u001b[39m.\u001b[39mlayers\u001b[39m.\u001b[39mLSTM(\u001b[39m30\u001b[39m, input_shape\u001b[39m=\u001b[39m(\u001b[39m30\u001b[39m,\u001b[39m1\u001b[39m), return_sequences\u001b[39m=\u001b[39m\u001b[39mTrue\u001b[39;00m),\n\u001b[0;32m   (...)\u001b[0m\n\u001b[1;32m     11\u001b[0m     keras\u001b[39m.\u001b[39mlayers\u001b[39m.\u001b[39mDense(\u001b[39m5\u001b[39m, activation\u001b[39m=\u001b[39mtf\u001b[39m.\u001b[39mnn\u001b[39m.\u001b[39msoftmax)\n\u001b[1;32m     12\u001b[0m ])\n\u001b[1;32m     13\u001b[0m model\u001b[39m.\u001b[39mcompile(optimizer\u001b[39m=\u001b[39m\u001b[39m'\u001b[39m\u001b[39madam\u001b[39m\u001b[39m'\u001b[39m,\n\u001b[1;32m     14\u001b[0m                 loss\u001b[39m=\u001b[39m\u001b[39m'\u001b[39m\u001b[39msparse_categorical_crossentropy\u001b[39m\u001b[39m'\u001b[39m,\n\u001b[1;32m     15\u001b[0m                 metrics\u001b[39m=\u001b[39m[\u001b[39m'\u001b[39m\u001b[39maccuracy\u001b[39m\u001b[39m'\u001b[39m])\n\u001b[0;32m---> 16\u001b[0m model\u001b[39m.\u001b[39mfit(X_train, y_train, epochs\u001b[39m=\u001b[39m\u001b[39m20\u001b[39m)\n",
      "\u001b[0;31mNameError\u001b[0m: name 'X_train' is not defined"
     ]
    }
   ],
   "source": [
    "# LSTM using keras\n",
    "model = keras.Sequential([\n",
    "    keras.layers.LSTM(30, input_shape=(30,1), return_sequences=True),\n",
    "    keras.layers.LSTM(30, input_shape=(30,1), return_sequences=True),\n",
    "    keras.layers.LSTM(30, input_shape=(30,1), return_sequences=True),\n",
    "    keras.layers.LSTM(30, input_shape=(30,1)),\n",
    "    \n",
    "    \n",
    "    keras.layers.Dense(50, activation=tf.nn.relu),\n",
    "    \n",
    "    keras.layers.Dense(5, activation=tf.nn.softmax)\n",
    "])\n",
    "model.compile(optimizer='adam',\n",
    "                loss='sparse_categorical_crossentropy',\n",
    "                metrics=['accuracy'])\n",
    "model.fit(X_train, y_train, epochs=20)\n"
   ]
  },
  {
   "cell_type": "code",
   "execution_count": 122,
   "metadata": {},
   "outputs": [
    {
     "name": "stdout",
     "output_type": "stream",
     "text": [
      "42/42 [==============================] - 2s 12ms/step\n"
     ]
    }
   ],
   "source": [
    "beesAns4 = model.predict(testData)\n",
    "beesAns4 = np.argmax(beesAns4, axis=1)\n",
    "beesAns4\n",
    "writeResult('beesAns4', beesAns4)"
   ]
  },
  {
   "cell_type": "code",
   "execution_count": 51,
   "metadata": {},
   "outputs": [
    {
     "name": "stdout",
     "output_type": "stream",
     "text": [
      "[1 1 0 2 3 0 0 4 1 0 2 2 0 2 1 1 1 1 3 0 2 1 4 3 1 4 4 3 1 3 0 1 4 3 0 0 2\n",
      " 1 4 4 0 2 0 4 2 4 0 0 1 0 2 2 0 0 1 3 2 3 4 0 2 4 1 0 1 2 4 0 4 2 3 1 2 2\n",
      " 2 4 4 4 1 1 1 0 3 4 0 1 2 3 0 1 2 4 3 3 1 4 0 4 0 4 1 0 4 4 1 2 0 3 1 2 2\n",
      " 4 3 1 4 0 4 4 3 1 3 0 2 4 3 0 0 3 1 2 0 1 1 1 2 3 3 4 0 1 2 3 2 2 2 2 2 4\n",
      " 3 1 0 3 1 3 3 4 0 0 1 2 1 2 0 1 0 3 1 0 1 1 1 1 4 4 3 4 1 1 2 3 1 1 4 3 1\n",
      " 2 2 4 4 1 2 0 0 3 0 1 0 0 0 1 0 2 0 0 2 4 0 4 1 1 2 2 4 1 3 0 3 1 1 2 0 1\n",
      " 3 4 0 1 4 4 2 4 4 0 0 4 2 3 4 1 0 3 1 0 3 1 4 1 0 4 1 2 4 2 0 2 1 2 2 2 3\n",
      " 3 2 1 0 0 2 1 4 3 3 2 2 4 1 1 3 0 2 3 1 1 3 4 0 1 2 3 0 0 1 1 2 2 3 1 4 0\n",
      " 2 0 0 3 3 0 3 1 0 1 0 4 3 0 3 1 2 1 3 1 0 2 4 0 1 1 4 0 4 0 2 0 2 3 1 4 3\n",
      " 3 3 2 3 4 0 4 2 2 0 3 2 1 4 3 2 3 0 1 0 3 1 3 1 4 1 2 4 3 2 4 1 4 4 4 2 4\n",
      " 4 0 3 0 2 1 2 1 4 4 1 3 3 0 4 0 0 2 2 0 1 1 0 4 3 2 2 4 2 4 0 3 1 4 4 3 4\n",
      " 3 2 4 1 3 3 4 4 2 0 2 1 1 2 1 0 3 0 2 4 4 0 2 4 1 1 2 3 4 2 2 1 2 2 1 3 2\n",
      " 0 2 3 2 3 0 2 0 4 4 2 3 1 0 0 0 1 0 4 1 3 1 0 4 1 3 3 1 0 1 2 0 2 4 4 3 0\n",
      " 4 4 2 4 0 0 0 4 2 0 1 3 1 0 2 0 4 3 4 3 3 2 2 1 4 1 1 2 1 1 0 2 1 2 0 0 1\n",
      " 3 3 0 4 0 1 3 2 1 3 2 0 2 4 0 0 2 1 4 2 2 4 1 2 0 1 1 3 2 2 4 4 1 4 4 1 3\n",
      " 4 4 3 2 0 0 4 4 0 3 3 4 3 3 3 4 1 0 0 2 3 3 2 0 2 3 3 2 4 3 2 2 0 4 2 1 2\n",
      " 0 2 4 4 0 0 1 1 2 1 2 2 4 3 0 0 3 0 2 2 1 3 0 1 2 1 0 2 2 4 0 1 1 1 3 2 2\n",
      " 2 0 0 2 2 4 0 3 0 1 1 4 3 3 0 3 0 2 2 4 1 0 4 4 1 2 3 4 3 0 2 0 4 3 4 3 0\n",
      " 1 2 4 1 1 3 0 0 0 1 1 4 1 3 3 2 1 1 0 3 0 4 1 2 1 1 2 1 0 2 1 4 3 4 3 1 2\n",
      " 1 3 2 0 4 4 3 4 2 1 3 0 2 3 0 3 3 2 2 4 4 3 3 2 1 2 3 0 1 2 3 2 3 0 3 4 0\n",
      " 4 3 0 1 1 4 2 2 3 2 3 1 3 4 3 0 1 3 0 4 1 0 3 1 0 0 4 1 0 1 4 3 2 3 1 0 2\n",
      " 0 1 2 4 1 3 2 1 0 3 4 0 3 3 1 1 2 1 2 2 0 3 1 1 1 2 0 1 4 1 4 0 2 1 1 0 3\n",
      " 0 3 4 3 0 1 2 0 3 0 4 0 2 0 4 2 0 2 3 4 2 2 0 1 0 0 2 4 0 0 4 2 4 3 2 4 3\n",
      " 3 4 0 0 0 0 2 1 1 3 3 2 1 4 2 0 4 1 4 3 4 3 1 4 3 4 3 1 4 4 1 0 3 0 2 1 2\n",
      " 1 3 4 0 3 3 2 4 1 2 3 0 2 2 0 3 4 3 2 0 3 2 3 2 3 0 1 1 4 1 4 2 0 1 0 1 1\n",
      " 1 1 3 3 1 0 3 2 1 2 3 2 3 0 1 1 3 0 4 1 1 4 0 1 1 2 3 0 0 4 0 3 0 3 1 0 1\n",
      " 2 2 4 2 1 0 1 0 2 0 0 4 4 1 3 2 1 0 3]\n"
     ]
    }
   ],
   "source": [
    "beesAns4 = mlp.predict(testData)\n",
    "print(beesAns4)\n",
    "writeResult('beesAns4', beesAns4)"
   ]
  }
 ],
 "metadata": {
  "kernelspec": {
   "display_name": "Python 3.9.13 ('commonMLalgs')",
   "language": "python",
   "name": "python3"
  },
  "language_info": {
   "codemirror_mode": {
    "name": "ipython",
    "version": 3
   },
   "file_extension": ".py",
   "mimetype": "text/x-python",
   "name": "python",
   "nbconvert_exporter": "python",
   "pygments_lexer": "ipython3",
   "version": "3.9.13"
  },
  "orig_nbformat": 4,
  "vscode": {
   "interpreter": {
    "hash": "500cef33aa921c87c63c1753d003ac956bc931603b9c07a450ae237ef80e36a0"
   }
  }
 },
 "nbformat": 4,
 "nbformat_minor": 2
}
