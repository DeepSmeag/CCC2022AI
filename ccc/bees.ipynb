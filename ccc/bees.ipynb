{
 "cells": [
  {
   "cell_type": "markdown",
   "metadata": {},
   "source": [
    "# Bees problem for CCC"
   ]
  },
  {
   "cell_type": "code",
   "execution_count": 127,
   "metadata": {},
   "outputs": [],
   "source": [
    "import pandas as pd\n",
    "import numpy as np\n",
    "import matplotlib.pyplot as plt"
   ]
  },
  {
   "cell_type": "code",
   "execution_count": 128,
   "metadata": {},
   "outputs": [
    {
     "data": {
      "text/plain": [
       "(array([1182., 1053., 1002., 2220.]),\n",
       " array([0., 1., 2., 3., 4.]),\n",
       " <BarContainer object of 4 artists>)"
      ]
     },
     "execution_count": 128,
     "metadata": {},
     "output_type": "execute_result"
    },
    {
     "data": {
      "image/png": "[encoded data removed]",
      "text/plain": [
       "<Figure size 640x480 with 1 Axes>"
      ]
     },
     "metadata": {},
     "output_type": "display_data"
    }
   ],
   "source": [
    "beesDB = pd.read_csv('./level_1/training_data.csv', header = None)\n",
    "npBest = beesDB.values\n",
    "# pandas to np array\n",
    "\n",
    "plt.hist(npBest[:,1], bins=[0,1,2,3,4])"
   ]
  },
  {
   "cell_type": "code",
   "execution_count": 129,
   "metadata": {},
   "outputs": [
    {
     "data": {
      "text/plain": [
       "(5275, 2)"
      ]
     },
     "execution_count": 129,
     "metadata": {},
     "output_type": "execute_result"
    }
   ],
   "source": [
    "# Filter pandas where first column doesn't have 30 characters\n",
    "beesFiltered = beesDB[beesDB.iloc[:,0].str.len() == 30]\n",
    "beesFiltered.head()\n",
    "beesFiltered.shape\n",
    "# plt.hist(beesFiltered.iloc[:,1], bins=[0,1,2,3,4,5])\n",
    "# beesDB.shape"
   ]
  },
  {
   "cell_type": "code",
   "execution_count": 130,
   "metadata": {},
   "outputs": [
    {
     "name": "stderr",
     "output_type": "stream",
     "text": [
      "/tmp/ipykernel_483/3990970599.py:3: SettingWithCopyWarning: \n",
      "A value is trying to be set on a copy of a slice from a DataFrame\n",
      "\n",
      "See the caveats in the documentation: https://pandas.pydata.org/pandas-docs/stable/user_guide/indexing.html#returning-a-view-versus-a-copy\n",
      "  bees01.rename(columns={bees01.columns[0]: \"sequence\"}, inplace=True)\n",
      "/tmp/ipykernel_483/3990970599.py:4: SettingWithCopyWarning: \n",
      "A value is trying to be set on a copy of a slice from a DataFrame\n",
      "\n",
      "See the caveats in the documentation: https://pandas.pydata.org/pandas-docs/stable/user_guide/indexing.html#returning-a-view-versus-a-copy\n",
      "  bees01.rename(columns={bees01.columns[1]: \"label\"}, inplace=True)\n"
     ]
    },
    {
     "data": {
      "text/html": [
       "<div>\n",
       "<style scoped>\n",
       "    .dataframe tbody tr th:only-of-type {\n",
       "        vertical-align: middle;\n",
       "    }\n",
       "\n",
       "    .dataframe tbody tr th {\n",
       "        vertical-align: top;\n",
       "    }\n",
       "\n",
       "    .dataframe thead th {\n",
       "        text-align: right;\n",
       "    }\n",
       "</style>\n",
       "<table border=\"1\" class=\"dataframe\">\n",
       "  <thead>\n",
       "    <tr style=\"text-align: right;\">\n",
       "      <th></th>\n",
       "      <th>sequence</th>\n",
       "      <th>label</th>\n",
       "    </tr>\n",
       "  </thead>\n",
       "  <tbody>\n",
       "    <tr>\n",
       "      <th>2</th>\n",
       "      <td>agidfedadgcaaeieccabcdbahgcdeh</td>\n",
       "      <td>1</td>\n",
       "    </tr>\n",
       "    <tr>\n",
       "      <th>5</th>\n",
       "      <td>febcfhggcbgaaidbagbbdgbfdcccid</td>\n",
       "      <td>0</td>\n",
       "    </tr>\n",
       "    <tr>\n",
       "      <th>7</th>\n",
       "      <td>aidiicbbefghdcdhgccheebeehefcf</td>\n",
       "      <td>0</td>\n",
       "    </tr>\n",
       "    <tr>\n",
       "      <th>8</th>\n",
       "      <td>igihfghgdbfaahfbcdegheefdgidii</td>\n",
       "      <td>1</td>\n",
       "    </tr>\n",
       "    <tr>\n",
       "      <th>11</th>\n",
       "      <td>eifaidbagbeidhhgggiddcbcdfibhf</td>\n",
       "      <td>0</td>\n",
       "    </tr>\n",
       "  </tbody>\n",
       "</table>\n",
       "</div>"
      ],
      "text/plain": [
       "                          sequence  label\n",
       "2   agidfedadgcaaeieccabcdbahgcdeh      1\n",
       "5   febcfhggcbgaaidbagbbdgbfdcccid      0\n",
       "7   aidiicbbefghdcdhgccheebeehefcf      0\n",
       "8   igihfghgdbfaahfbcdegheefdgidii      1\n",
       "11  eifaidbagbeidhhgggiddcbcdfibhf      0"
      ]
     },
     "execution_count": 130,
     "metadata": {},
     "output_type": "execute_result"
    }
   ],
   "source": [
    "# Level 3\n",
    "bees01 = beesFiltered[beesFiltered.iloc[:,1].isin([0,1])]\n",
    "bees01.rename(columns={bees01.columns[0]: \"sequence\"}, inplace=True)\n",
    "bees01.rename(columns={bees01.columns[1]: \"label\"}, inplace=True)\n",
    "bees01.head()\n"
   ]
  },
  {
   "cell_type": "code",
   "execution_count": 131,
   "metadata": {},
   "outputs": [],
   "source": [
    "def convertStringToNpIntArray(string):\n",
    "    return np.array([ord(x) - ord('a') for x in string])"
   ]
  },
  {
   "cell_type": "code",
   "execution_count": 132,
   "metadata": {},
   "outputs": [
    {
     "name": "stderr",
     "output_type": "stream",
     "text": [
      "/tmp/ipykernel_483/4047299350.py:2: SettingWithCopyWarning: \n",
      "A value is trying to be set on a copy of a slice from a DataFrame.\n",
      "Try using .loc[row_indexer,col_indexer] = value instead\n",
      "\n",
      "See the caveats in the documentation: https://pandas.pydata.org/pandas-docs/stable/user_guide/indexing.html#returning-a-view-versus-a-copy\n",
      "  bees01['sequence'] = bees01['sequence'].apply(convertStringToNpIntArray)\n"
     ]
    }
   ],
   "source": [
    "# Change df sequences from string to np array of ints\n",
    "bees01['sequence'] = bees01['sequence'].apply(convertStringToNpIntArray)"
   ]
  },
  {
   "cell_type": "code",
   "execution_count": 133,
   "metadata": {},
   "outputs": [
    {
     "data": {
      "text/html": [
       "<div>\n",
       "<style scoped>\n",
       "    .dataframe tbody tr th:only-of-type {\n",
       "        vertical-align: middle;\n",
       "    }\n",
       "\n",
       "    .dataframe tbody tr th {\n",
       "        vertical-align: top;\n",
       "    }\n",
       "\n",
       "    .dataframe thead th {\n",
       "        text-align: right;\n",
       "    }\n",
       "</style>\n",
       "<table border=\"1\" class=\"dataframe\">\n",
       "  <thead>\n",
       "    <tr style=\"text-align: right;\">\n",
       "      <th></th>\n",
       "      <th>sequence</th>\n",
       "      <th>label</th>\n",
       "    </tr>\n",
       "  </thead>\n",
       "  <tbody>\n",
       "    <tr>\n",
       "      <th>2</th>\n",
       "      <td>[0, 6, 8, 3, 5, 4, 3, 0, 3, 6, 2, 0, 0, 4, 8, ...</td>\n",
       "      <td>1</td>\n",
       "    </tr>\n",
       "    <tr>\n",
       "      <th>5</th>\n",
       "      <td>[5, 4, 1, 2, 5, 7, 6, 6, 2, 1, 6, 0, 0, 8, 3, ...</td>\n",
       "      <td>0</td>\n",
       "    </tr>\n",
       "    <tr>\n",
       "      <th>7</th>\n",
       "      <td>[0, 8, 3, 8, 8, 2, 1, 1, 4, 5, 6, 7, 3, 2, 3, ...</td>\n",
       "      <td>0</td>\n",
       "    </tr>\n",
       "    <tr>\n",
       "      <th>8</th>\n",
       "      <td>[8, 6, 8, 7, 5, 6, 7, 6, 3, 1, 5, 0, 0, 7, 5, ...</td>\n",
       "      <td>1</td>\n",
       "    </tr>\n",
       "    <tr>\n",
       "      <th>11</th>\n",
       "      <td>[4, 8, 5, 0, 8, 3, 1, 0, 6, 1, 4, 8, 3, 7, 7, ...</td>\n",
       "      <td>0</td>\n",
       "    </tr>\n",
       "  </tbody>\n",
       "</table>\n",
       "</div>"
      ],
      "text/plain": [
       "                                             sequence  label\n",
       "2   [0, 6, 8, 3, 5, 4, 3, 0, 3, 6, 2, 0, 0, 4, 8, ...      1\n",
       "5   [5, 4, 1, 2, 5, 7, 6, 6, 2, 1, 6, 0, 0, 8, 3, ...      0\n",
       "7   [0, 8, 3, 8, 8, 2, 1, 1, 4, 5, 6, 7, 3, 2, 3, ...      0\n",
       "8   [8, 6, 8, 7, 5, 6, 7, 6, 3, 1, 5, 0, 0, 7, 5, ...      1\n",
       "11  [4, 8, 5, 0, 8, 3, 1, 0, 6, 1, 4, 8, 3, 7, 7, ...      0"
      ]
     },
     "execution_count": 133,
     "metadata": {},
     "output_type": "execute_result"
    }
   ],
   "source": [
    "bees01.head()"
   ]
  },
  {
   "cell_type": "code",
   "execution_count": 134,
   "metadata": {},
   "outputs": [],
   "source": [
    "# Use kmeans on bees01\n",
    "from sklearn.cluster import KMeans\n",
    "from sklearn.metrics import silhouette_score\n",
    "beesMatrix = bees01.iloc[:,0]\n",
    "# Change beesMatrix to shape (n_samples, n_features)\n",
    "beesMatrix = np.stack(beesMatrix.values)\n",
    "beesAns01 = bees01.iloc[:,1]\n",
    "# print(beesMatrix)\n",
    "kmeans = KMeans(n_clusters=2, random_state=0, max_iter=2000).fit(beesMatrix)\n"
   ]
  },
  {
   "cell_type": "code",
   "execution_count": 135,
   "metadata": {},
   "outputs": [
    {
     "data": {
      "text/html": [
       "<style>#sk-container-id-4 {color: black;background-color: white;}#sk-container-id-4 pre{padding: 0;}#sk-container-id-4 div.sk-toggleable {background-color: white;}#sk-container-id-4 label.sk-toggleable__label {cursor: pointer;display: block;width: 100%;margin-bottom: 0;padding: 0.3em;box-sizing: border-box;text-align: center;}#sk-container-id-4 label.sk-toggleable__label-arrow:before {content: \"▸\";float: left;margin-right: 0.25em;color: #696969;}#sk-container-id-4 label.sk-toggleable__label-arrow:hover:before {color: black;}#sk-container-id-4 div.sk-estimator:hover label.sk-toggleable__label-arrow:before {color: black;}#sk-container-id-4 div.sk-toggleable__content {max-height: 0;max-width: 0;overflow: hidden;text-align: left;background-color: #f0f8ff;}#sk-container-id-4 div.sk-toggleable__content pre {margin: 0.2em;color: black;border-radius: 0.25em;background-color: #f0f8ff;}#sk-container-id-4 input.sk-toggleable__control:checked~div.sk-toggleable__content {max-height: 200px;max-width: 100%;overflow: auto;}#sk-container-id-4 input.sk-toggleable__control:checked~label.sk-toggleable__label-arrow:before {content: \"▾\";}#sk-container-id-4 div.sk-estimator input.sk-toggleable__control:checked~label.sk-toggleable__label {background-color: #d4ebff;}#sk-container-id-4 div.sk-label input.sk-toggleable__control:checked~label.sk-toggleable__label {background-color: #d4ebff;}#sk-container-id-4 input.sk-hidden--visually {border: 0;clip: rect(1px 1px 1px 1px);clip: rect(1px, 1px, 1px, 1px);height: 1px;margin: -1px;overflow: hidden;padding: 0;position: absolute;width: 1px;}#sk-container-id-4 div.sk-estimator {font-family: monospace;background-color: #f0f8ff;border: 1px dotted black;border-radius: 0.25em;box-sizing: border-box;margin-bottom: 0.5em;}#sk-container-id-4 div.sk-estimator:hover {background-color: #d4ebff;}#sk-container-id-4 div.sk-parallel-item::after {content: \"\";width: 100%;border-bottom: 1px solid gray;flex-grow: 1;}#sk-container-id-4 div.sk-label:hover label.sk-toggleable__label {background-color: #d4ebff;}#sk-container-id-4 div.sk-serial::before {content: \"\";position: absolute;border-left: 1px solid gray;box-sizing: border-box;top: 0;bottom: 0;left: 50%;z-index: 0;}#sk-container-id-4 div.sk-serial {display: flex;flex-direction: column;align-items: center;background-color: white;padding-right: 0.2em;padding-left: 0.2em;position: relative;}#sk-container-id-4 div.sk-item {position: relative;z-index: 1;}#sk-container-id-4 div.sk-parallel {display: flex;align-items: stretch;justify-content: center;background-color: white;position: relative;}#sk-container-id-4 div.sk-item::before, #sk-container-id-4 div.sk-parallel-item::before {content: \"\";position: absolute;border-left: 1px solid gray;box-sizing: border-box;top: 0;bottom: 0;left: 50%;z-index: -1;}#sk-container-id-4 div.sk-parallel-item {display: flex;flex-direction: column;z-index: 1;position: relative;background-color: white;}#sk-container-id-4 div.sk-parallel-item:first-child::after {align-self: flex-end;width: 50%;}#sk-container-id-4 div.sk-parallel-item:last-child::after {align-self: flex-start;width: 50%;}#sk-container-id-4 div.sk-parallel-item:only-child::after {width: 0;}#sk-container-id-4 div.sk-dashed-wrapped {border: 1px dashed gray;margin: 0 0.4em 0.5em 0.4em;box-sizing: border-box;padding-bottom: 0.4em;background-color: white;}#sk-container-id-4 div.sk-label label {font-family: monospace;font-weight: bold;display: inline-block;line-height: 1.2em;}#sk-container-id-4 div.sk-label-container {text-align: center;}#sk-container-id-4 div.sk-container {/* jupyter's `normalize.less` sets `[hidden] { display: none; }` but bootstrap.min.css set `[hidden] { display: none !important; }` so we also need the `!important` here to be able to override the default hidden behavior on the sphinx rendered scikit-learn.org. See: https://github.com/scikit-learn/scikit-learn/issues/21755 */display: inline-block !important;position: relative;}#sk-container-id-4 div.sk-text-repr-fallback {display: none;}</style><div id=\"sk-container-id-4\" class=\"sk-top-container\"><div class=\"sk-text-repr-fallback\"><pre>KNeighborsClassifier()</pre><b>In a Jupyter environment, please rerun this cell to show the HTML representation or trust the notebook. <br />On GitHub, the HTML representation is unable to render, please try loading this page with nbviewer.org.</b></div><div class=\"sk-container\" hidden><div class=\"sk-item\"><div class=\"sk-estimator sk-toggleable\"><input class=\"sk-toggleable__control sk-hidden--visually\" id=\"sk-estimator-id-4\" type=\"checkbox\" checked><label for=\"sk-estimator-id-4\" class=\"sk-toggleable__label sk-toggleable__label-arrow\">KNeighborsClassifier</label><div class=\"sk-toggleable__content\"><pre>KNeighborsClassifier()</pre></div></div></div></div></div>"
      ],
      "text/plain": [
       "KNeighborsClassifier()"
      ]
     },
     "execution_count": 135,
     "metadata": {},
     "output_type": "execute_result"
    }
   ],
   "source": [
    "# Train KNN on beesMatrix\n",
    "from sklearn.neighbors import KNeighborsClassifier\n",
    "from sklearn.model_selection import train_test_split\n",
    "from sklearn.metrics import accuracy_score\n",
    "from sklearn.metrics import confusion_matrix\n",
    "from sklearn.metrics import classification_report\n",
    "\n",
    "\n",
    "knn = KNeighborsClassifier(n_neighbors=5)\n",
    "knn.fit(beesMatrix, beesAns01)"
   ]
  },
  {
   "cell_type": "code",
   "execution_count": 136,
   "metadata": {},
   "outputs": [],
   "source": [
    "kmeans.labels_\n",
    "# silhouette_score(beesMatrix, kmeans.labels_)\n",
    "# Test kmeans on some data\n",
    "testData = pd.read_csv('./level_3/simple_test_data.csv', header = None)\n",
    "testData = testData.iloc[:,0].apply(convertStringToNpIntArray)\n",
    "testData = np.stack(testData.values)\n",
    "\n",
    "\n",
    "\n",
    "# kmeans.predict(testData)\n",
    "\n",
    "# 0 = not a bee\n",
    "# 1 = is a bee"
   ]
  },
  {
   "cell_type": "code",
   "execution_count": 137,
   "metadata": {},
   "outputs": [
    {
     "ename": "AttributeError",
     "evalue": "'numpy.ndarray' object has no attribute 'apply'",
     "output_type": "error",
     "traceback": [
      "\u001b[0;31m---------------------------------------------------------------------------\u001b[0m",
      "\u001b[0;31mAttributeError\u001b[0m                            Traceback (most recent call last)",
      "Cell \u001b[0;32mIn [137], line 1\u001b[0m\n\u001b[0;32m----> 1\u001b[0m testData[\u001b[39m0\u001b[39m] \u001b[39m=\u001b[39m testData[\u001b[39m0\u001b[39;49m]\u001b[39m.\u001b[39;49mapply(convertStringToNpIntArray)\n",
      "\u001b[0;31mAttributeError\u001b[0m: 'numpy.ndarray' object has no attribute 'apply'"
     ]
    }
   ],
   "source": [
    "# testData[0] = testData[0].apply(convertStringToNpIntArray)"
   ]
  },
  {
   "cell_type": "code",
   "execution_count": 138,
   "metadata": {},
   "outputs": [],
   "source": [
    "beesAnsL3 = knn.predict(testData)"
   ]
  },
  {
   "cell_type": "code",
   "execution_count": 139,
   "metadata": {},
   "outputs": [
    {
     "ename": "AttributeError",
     "evalue": "'numpy.ndarray' object has no attribute 'iloc'",
     "output_type": "error",
     "traceback": [
      "\u001b[0;31m---------------------------------------------------------------------------\u001b[0m",
      "\u001b[0;31mAttributeError\u001b[0m                            Traceback (most recent call last)",
      "Cell \u001b[0;32mIn [139], line 2\u001b[0m\n\u001b[1;32m      1\u001b[0m \u001b[39m# convert to numpy array\u001b[39;00m\n\u001b[0;32m----> 2\u001b[0m beesMatrix \u001b[39m=\u001b[39m testData\u001b[39m.\u001b[39;49miloc[:,\u001b[39m0\u001b[39m]\n\u001b[1;32m      3\u001b[0m \u001b[39m# Change beesMatrix to shape (n_samples, n_features)\u001b[39;00m\n\u001b[1;32m      4\u001b[0m beesMatrix \u001b[39m=\u001b[39m np\u001b[39m.\u001b[39mstack(beesMatrix\u001b[39m.\u001b[39mvalues)\n",
      "\u001b[0;31mAttributeError\u001b[0m: 'numpy.ndarray' object has no attribute 'iloc'"
     ]
    }
   ],
   "source": [
    "# convert to numpy array\n",
    "beesMatrix = testData.iloc[:,0]\n",
    "# Change beesMatrix to shape (n_samples, n_features)\n",
    "beesMatrix = np.stack(beesMatrix.values)\n"
   ]
  },
  {
   "cell_type": "code",
   "execution_count": null,
   "metadata": {},
   "outputs": [],
   "source": [
    "testData = beesMatrix\n",
    "kmeans.predict(testData)\n",
    "with open('beesAns3', 'w') as f:\n",
    "    for item in beesAnsL3:\n",
    "        f.write('0\\n' if item == 0 else '1\\n')"
   ]
  },
  {
   "cell_type": "code",
   "execution_count": 146,
   "metadata": {},
   "outputs": [
    {
     "data": {
      "text/plain": [
       "0       3\n",
       "1       4\n",
       "2       1\n",
       "3       2\n",
       "4       2\n",
       "       ..\n",
       "5452    4\n",
       "5453    3\n",
       "5454    1\n",
       "5455    1\n",
       "5456    2\n",
       "Name: 1, Length: 5275, dtype: int64"
      ]
     },
     "execution_count": 146,
     "metadata": {},
     "output_type": "execute_result"
    }
   ],
   "source": [
    "beesL4 = beesFiltered.iloc[:,0].apply(convertStringToNpIntArray)\n",
    "beesL4 = np.stack(beesL4.values)\n",
    "beesL4\n",
    "beesAns04 = beesFiltered.iloc[:,1]\n"
   ]
  },
  {
   "cell_type": "code",
   "execution_count": 147,
   "metadata": {},
   "outputs": [
    {
     "data": {
      "text/html": [
       "<style>#sk-container-id-5 {color: black;background-color: white;}#sk-container-id-5 pre{padding: 0;}#sk-container-id-5 div.sk-toggleable {background-color: white;}#sk-container-id-5 label.sk-toggleable__label {cursor: pointer;display: block;width: 100%;margin-bottom: 0;padding: 0.3em;box-sizing: border-box;text-align: center;}#sk-container-id-5 label.sk-toggleable__label-arrow:before {content: \"▸\";float: left;margin-right: 0.25em;color: #696969;}#sk-container-id-5 label.sk-toggleable__label-arrow:hover:before {color: black;}#sk-container-id-5 div.sk-estimator:hover label.sk-toggleable__label-arrow:before {color: black;}#sk-container-id-5 div.sk-toggleable__content {max-height: 0;max-width: 0;overflow: hidden;text-align: left;background-color: #f0f8ff;}#sk-container-id-5 div.sk-toggleable__content pre {margin: 0.2em;color: black;border-radius: 0.25em;background-color: #f0f8ff;}#sk-container-id-5 input.sk-toggleable__control:checked~div.sk-toggleable__content {max-height: 200px;max-width: 100%;overflow: auto;}#sk-container-id-5 input.sk-toggleable__control:checked~label.sk-toggleable__label-arrow:before {content: \"▾\";}#sk-container-id-5 div.sk-estimator input.sk-toggleable__control:checked~label.sk-toggleable__label {background-color: #d4ebff;}#sk-container-id-5 div.sk-label input.sk-toggleable__control:checked~label.sk-toggleable__label {background-color: #d4ebff;}#sk-container-id-5 input.sk-hidden--visually {border: 0;clip: rect(1px 1px 1px 1px);clip: rect(1px, 1px, 1px, 1px);height: 1px;margin: -1px;overflow: hidden;padding: 0;position: absolute;width: 1px;}#sk-container-id-5 div.sk-estimator {font-family: monospace;background-color: #f0f8ff;border: 1px dotted black;border-radius: 0.25em;box-sizing: border-box;margin-bottom: 0.5em;}#sk-container-id-5 div.sk-estimator:hover {background-color: #d4ebff;}#sk-container-id-5 div.sk-parallel-item::after {content: \"\";width: 100%;border-bottom: 1px solid gray;flex-grow: 1;}#sk-container-id-5 div.sk-label:hover label.sk-toggleable__label {background-color: #d4ebff;}#sk-container-id-5 div.sk-serial::before {content: \"\";position: absolute;border-left: 1px solid gray;box-sizing: border-box;top: 0;bottom: 0;left: 50%;z-index: 0;}#sk-container-id-5 div.sk-serial {display: flex;flex-direction: column;align-items: center;background-color: white;padding-right: 0.2em;padding-left: 0.2em;position: relative;}#sk-container-id-5 div.sk-item {position: relative;z-index: 1;}#sk-container-id-5 div.sk-parallel {display: flex;align-items: stretch;justify-content: center;background-color: white;position: relative;}#sk-container-id-5 div.sk-item::before, #sk-container-id-5 div.sk-parallel-item::before {content: \"\";position: absolute;border-left: 1px solid gray;box-sizing: border-box;top: 0;bottom: 0;left: 50%;z-index: -1;}#sk-container-id-5 div.sk-parallel-item {display: flex;flex-direction: column;z-index: 1;position: relative;background-color: white;}#sk-container-id-5 div.sk-parallel-item:first-child::after {align-self: flex-end;width: 50%;}#sk-container-id-5 div.sk-parallel-item:last-child::after {align-self: flex-start;width: 50%;}#sk-container-id-5 div.sk-parallel-item:only-child::after {width: 0;}#sk-container-id-5 div.sk-dashed-wrapped {border: 1px dashed gray;margin: 0 0.4em 0.5em 0.4em;box-sizing: border-box;padding-bottom: 0.4em;background-color: white;}#sk-container-id-5 div.sk-label label {font-family: monospace;font-weight: bold;display: inline-block;line-height: 1.2em;}#sk-container-id-5 div.sk-label-container {text-align: center;}#sk-container-id-5 div.sk-container {/* jupyter's `normalize.less` sets `[hidden] { display: none; }` but bootstrap.min.css set `[hidden] { display: none !important; }` so we also need the `!important` here to be able to override the default hidden behavior on the sphinx rendered scikit-learn.org. See: https://github.com/scikit-learn/scikit-learn/issues/21755 */display: inline-block !important;position: relative;}#sk-container-id-5 div.sk-text-repr-fallback {display: none;}</style><div id=\"sk-container-id-5\" class=\"sk-top-container\"><div class=\"sk-text-repr-fallback\"><pre>KNeighborsClassifier()</pre><b>In a Jupyter environment, please rerun this cell to show the HTML representation or trust the notebook. <br />On GitHub, the HTML representation is unable to render, please try loading this page with nbviewer.org.</b></div><div class=\"sk-container\" hidden><div class=\"sk-item\"><div class=\"sk-estimator sk-toggleable\"><input class=\"sk-toggleable__control sk-hidden--visually\" id=\"sk-estimator-id-5\" type=\"checkbox\" checked><label for=\"sk-estimator-id-5\" class=\"sk-toggleable__label sk-toggleable__label-arrow\">KNeighborsClassifier</label><div class=\"sk-toggleable__content\"><pre>KNeighborsClassifier()</pre></div></div></div></div></div>"
      ],
      "text/plain": [
       "KNeighborsClassifier()"
      ]
     },
     "execution_count": 147,
     "metadata": {},
     "output_type": "execute_result"
    }
   ],
   "source": [
    "knn.fit(beesL4, beesAns04)"
   ]
  },
  {
   "cell_type": "code",
   "execution_count": 148,
   "metadata": {},
   "outputs": [],
   "source": [
    "# Reading full test data into np array\n",
    "testData = pd.read_csv('./level_4/full_test_data.csv', header = None)\n",
    "testData = testData.iloc[:,0].apply(convertStringToNpIntArray)\n",
    "testData = np.stack(testData.values)"
   ]
  },
  {
   "cell_type": "code",
   "execution_count": 149,
   "metadata": {},
   "outputs": [],
   "source": [
    "beesAnsL4 = knn.predict(testData)"
   ]
  },
  {
   "cell_type": "code",
   "execution_count": 150,
   "metadata": {},
   "outputs": [
    {
     "data": {
      "text/plain": [
       "array([4, 0, 3, 4, 4, 2, 3, 1, 4, 3, 3, 2, 3, 3, 1, 1, 1, 2, 2, 0, 1, 0,\n",
       "       3, 3, 2, 4, 3, 2, 2, 3, 4, 0, 3, 1, 3, 1, 1, 2, 3, 3, 0, 2, 3, 3,\n",
       "       2, 3, 3, 3, 3, 2, 1, 1, 0, 0, 3, 1, 3, 3, 1, 3, 1, 2, 1, 4, 2, 1,\n",
       "       2, 3, 1, 3, 3, 3, 3, 1, 1, 0, 3, 2, 3, 2, 0, 3, 1, 3, 2, 2, 3, 3,\n",
       "       3, 1, 1, 2, 2, 3, 2, 1, 1, 3, 3, 2, 0, 2, 2, 2, 3, 3, 0, 3, 3, 1,\n",
       "       2, 2, 1, 3, 1, 4, 1, 4, 0, 3, 2, 1, 3, 0, 0, 0, 1, 2, 3, 3, 3, 0,\n",
       "       3, 1, 2, 1, 2, 1, 3, 0, 3, 3, 1, 2, 3, 1, 1, 2, 1, 3, 4, 3, 0, 1,\n",
       "       3, 3, 2, 0, 3, 3, 3, 0, 1, 3, 4, 1, 3, 1, 3, 2, 1, 2, 3, 1, 3, 3,\n",
       "       1, 2, 3, 3, 2, 3, 3, 4, 4, 3, 1, 0, 1, 1, 1, 3, 0, 3, 3, 1, 2, 4,\n",
       "       3, 0, 0, 2, 2, 3, 2, 0, 0, 3, 3, 1, 2, 3, 3, 3, 3, 0, 1, 2, 2, 0,\n",
       "       3, 2, 3, 4, 3, 3, 0, 3, 2, 3, 1, 0, 2, 2, 1, 1, 1, 2, 3, 1, 3, 4,\n",
       "       3, 2, 0, 3, 2, 3, 0, 2, 4, 2, 1, 3, 2, 4, 1, 3, 3, 2, 0, 3, 0, 1,\n",
       "       3, 3, 3, 3, 3, 4, 2, 4, 2, 2, 3, 1, 2, 2, 3, 1, 2, 3, 1, 0, 2, 3,\n",
       "       0, 0, 3, 3, 3, 2, 0, 1, 1, 0, 2, 3, 0, 1, 0, 1, 3, 1, 2, 2, 0, 3,\n",
       "       3, 0, 2, 2, 1, 3, 1, 0, 0, 1, 3, 3, 1, 1, 2, 1, 2, 3, 1, 3, 2, 4,\n",
       "       2, 3, 3, 3, 4, 3, 4, 0, 2, 2, 3, 3, 3, 2, 3, 1, 2, 4, 1, 1, 2, 2,\n",
       "       1, 0, 0, 1, 0, 0, 3, 3, 4, 3, 1, 1, 2, 2, 0, 1, 0, 0, 1, 0, 1, 2,\n",
       "       1, 1, 3, 3, 3, 3, 1, 1, 3, 3, 2, 2, 2, 2, 3, 3, 2, 3, 3, 3, 3, 0,\n",
       "       3, 3, 0, 4, 3, 0, 3, 3, 1, 3, 2, 3, 1, 2, 3, 1, 1, 3, 4, 3, 0, 1,\n",
       "       2, 1, 1, 3, 2, 1, 2, 4, 3, 1, 3, 3, 1, 2, 0, 1, 0, 3, 2, 1, 3, 2,\n",
       "       3, 1, 2, 1, 3, 1, 2, 2, 3, 3, 1, 0, 3, 1, 2, 3, 1, 3, 0, 4, 1, 2,\n",
       "       1, 1, 3, 3, 4, 3, 0, 2, 1, 1, 3, 1, 3, 3, 1, 1, 0, 2, 2, 3, 4, 2,\n",
       "       0, 3, 0, 0, 1, 3, 1, 1, 3, 3, 3, 3, 1, 4, 3, 3, 1, 1, 1, 2, 3, 0,\n",
       "       3, 1, 3, 4, 1, 2, 3, 3, 2, 3, 3, 3, 2, 1, 3, 0, 2, 3, 1, 2, 2, 2,\n",
       "       3, 3, 3, 3, 2, 3, 3, 3, 2, 2, 4, 3, 2, 3, 4, 3, 1, 1, 4, 1, 1, 3,\n",
       "       3, 3, 3, 1, 4, 4, 3, 2, 1, 3, 3, 1, 3, 1, 2, 0, 3, 3, 3, 3, 2, 2,\n",
       "       1, 0, 1, 1, 2, 0, 0, 2, 2, 0, 3, 3, 3, 2, 1, 0, 2, 2, 3, 4, 2, 0,\n",
       "       1, 3, 0, 2, 2, 2, 1, 3, 1, 0, 4, 1, 3, 1, 2, 0, 2, 4, 2, 3, 2, 1,\n",
       "       2, 2, 4, 2, 1, 2, 3, 2, 1, 2, 0, 3, 3, 3, 2, 2, 3, 4, 2, 1, 1, 4,\n",
       "       2, 0, 2, 2, 3, 0, 3, 3, 3, 3, 3, 1, 1, 2, 3, 3, 3, 2, 3, 3, 2, 1,\n",
       "       0, 3, 1, 1, 0, 0, 3, 3, 3, 3, 0, 3, 0, 0, 0, 3, 3, 1, 3, 2, 3, 3,\n",
       "       4, 3, 4, 3, 3, 0, 2, 4, 1, 3, 4, 2, 3, 3, 1, 0, 1, 0, 3, 1, 2, 2,\n",
       "       2, 1, 3, 3, 1, 3, 0, 4, 3, 3, 4, 1, 0, 0, 0, 3, 2, 3, 3, 3, 0, 3,\n",
       "       0, 4, 2, 1, 3, 3, 3, 3, 3, 1, 0, 2, 1, 0, 0, 2, 1, 2, 1, 1, 3, 2,\n",
       "       3, 3, 3, 1, 3, 1, 0, 2, 1, 2, 4, 2, 1, 3, 3, 3, 4, 0, 1, 1, 1, 1,\n",
       "       3, 3, 3, 0, 1, 1, 3, 0, 3, 1, 3, 3, 2, 3, 2, 0, 3, 2, 1, 2, 3, 3,\n",
       "       1, 2, 3, 2, 0, 3, 3, 3, 2, 1, 2, 2, 3, 3, 3, 3, 1, 3, 2, 3, 3, 1,\n",
       "       3, 2, 1, 0, 2, 0, 3, 3, 0, 2, 4, 2, 3, 0, 0, 1, 2, 3, 0, 3, 2, 3,\n",
       "       1, 2, 1, 1, 1, 3, 3, 2, 2, 4, 1, 3, 4, 1, 3, 3, 1, 4, 3, 3, 3, 4,\n",
       "       0, 3, 1, 3, 0, 2, 1, 2, 3, 3, 0, 3, 3, 2, 3, 1, 2, 3, 1, 1, 3, 3,\n",
       "       2, 3, 1, 0, 3, 3, 1, 1, 4, 3, 3, 1, 1, 0, 3, 0, 2, 1, 2, 3, 3, 4,\n",
       "       3, 3, 2, 3, 2, 0, 3, 2, 4, 3, 3, 3, 2, 4, 1, 2, 0, 0, 2, 3, 3, 3,\n",
       "       3, 0, 1, 4, 2, 2, 1, 1, 1, 3, 1, 3, 4, 2, 3, 2, 3, 1, 2, 3, 3, 3,\n",
       "       3, 2, 3, 1, 3, 3, 0, 0, 0, 2, 1, 0, 1, 2, 3, 1, 3, 4, 2, 2, 1, 4,\n",
       "       1, 1, 0, 2, 3, 3, 0, 0, 3, 0, 1, 3, 3])"
      ]
     },
     "execution_count": 150,
     "metadata": {},
     "output_type": "execute_result"
    }
   ],
   "source": [
    "with open('beesAns4', 'w') as f:\n",
    "    for item in beesAnsL4:\n",
    "        f.write(str(item) + \"\\n\")"
   ]
  }
 ],
 "metadata": {
  "kernelspec": {
   "display_name": "Python 3.9.13 ('commonMLalgs')",
   "language": "python",
   "name": "python3"
  },
  "language_info": {
   "codemirror_mode": {
    "name": "ipython",
    "version": 3
   },
   "file_extension": ".py",
   "mimetype": "text/x-python",
   "name": "python",
   "nbconvert_exporter": "python",
   "pygments_lexer": "ipython3",
   "version": "3.9.13"
  },
  "orig_nbformat": 4,
  "vscode": {
   "interpreter": {
    "hash": "500cef33aa921c87c63c1753d003ac956bc931603b9c07a450ae237ef80e36a0"
   }
  }
 },
 "nbformat": 4,
 "nbformat_minor": 2
}
